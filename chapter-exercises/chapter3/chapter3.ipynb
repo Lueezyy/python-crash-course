{
 "cells": [
  {
   "cell_type": "code",
   "execution_count": 55,
   "id": "8e0fed90",
   "metadata": {},
   "outputs": [
    {
     "name": "stdout",
     "output_type": "stream",
     "text": [
      "['seychelles', 'bora bora', 'fiji', 'santorini', 'mauritius']\n",
      "['bora bora', 'fiji', 'mauritius', 'santorini', 'seychelles']\n",
      "['seychelles', 'bora bora', 'fiji', 'santorini', 'mauritius']\n",
      "['seychelles', 'santorini', 'mauritius', 'fiji', 'bora bora']\n",
      "['mauritius', 'santorini', 'fiji', 'bora bora', 'seychelles']\n",
      "['seychelles', 'bora bora', 'fiji', 'santorini', 'mauritius']\n",
      "['bora bora', 'fiji', 'mauritius', 'santorini', 'seychelles']\n",
      "['seychelles', 'santorini', 'mauritius', 'fiji', 'bora bora']\n",
      "There are 5 destinations in vacations.\n",
      "bora bora\n"
     ]
    }
   ],
   "source": [
    "vacations = ['seychelles', 'bora bora', 'fiji', 'santorini', 'mauritius' ]\n",
    "print(vacations)\n",
    "print(sorted(vacations))\n",
    "print(vacations)\n",
    "print(sorted(vacations, reverse=True))\n",
    "vacations.reverse()\n",
    "print(vacations)\n",
    "vacations.reverse()\n",
    "print(vacations)\n",
    "vacations.sort()\n",
    "print(vacations)\n",
    "vacations.sort(reverse=True)\n",
    "print(vacations)\n",
    "print(f'There are {len(vacations)} destinations in vacations.')\n",
    "print(vacations[-1])"
   ]
  },
  {
   "cell_type": "code",
   "execution_count": 41,
   "id": "c24b7d7a",
   "metadata": {},
   "outputs": [
    {
     "name": "stdout",
     "output_type": "stream",
     "text": [
      "Original list: ['kilauea', 'mount etna', 'stromboli', 'merapi', 'sakurajima']\n",
      "Sorted list: ['kilauea', 'merapi', 'mount etna', 'sakurajima', 'stromboli']\n",
      "Here's the original list again: ['kilauea', 'mount etna', 'stromboli', 'merapi', 'sakurajima']\n",
      "['sakurajima', 'merapi', 'stromboli', 'mount etna', 'kilauea']\n",
      "['kilauea', 'merapi', 'mount etna', 'sakurajima', 'stromboli']\n",
      "['stromboli', 'sakurajima', 'mount etna', 'merapi', 'kilauea']\n",
      "5\n"
     ]
    }
   ],
   "source": [
    "volcanoes = ['kilauea', 'mount etna', 'stromboli', 'merapi', 'sakurajima']\n",
    "print(f'Original list: {volcanoes}')\n",
    "print(f'Sorted list: {sorted(volcanoes)}')\n",
    "print(f\"Here's the original list again: {volcanoes}\")\n",
    "volcanoes.reverse()\n",
    "print(volcanoes)\n",
    "volcanoes.sort()\n",
    "print(volcanoes)\n",
    "volcanoes.sort(reverse=True)\n",
    "print(volcanoes)\n",
    "print(len(volcanoes))"
   ]
  },
  {
   "cell_type": "code",
   "execution_count": 34,
   "id": "ba66b25e",
   "metadata": {},
   "outputs": [
    {
     "name": "stdout",
     "output_type": "stream",
     "text": [
      "Solid is a state of matter.\n",
      "Liquid is a state of matter.\n",
      "Gas is a state of matter.\n",
      "Solid is not a fluid.\n",
      "Plasma is a fluid.\n",
      "Liquid is a fluid.\n",
      "Gas is a fluid.\n",
      "New fluids to add.\n",
      "Superfluid is a fluid.\n",
      "Plasma is a fluid.\n",
      "Quark-Gluon Plasma is a fluid.\n",
      "Liquid is a fluid.\n",
      "Liquid Crystal is a fluid.\n",
      "Gas is a fluid.\n",
      "Only classical states of matter allowed.\n",
      "Superfluid is not a classical state.\n",
      "Quark-Gluon Plasma is not a classical state.\n",
      "Liquid Crystal is not a classical state.\n",
      "Plasma is a classical state and a fluid.\n",
      "Liquid is a classical state and a fluid.\n",
      "Gas is a classical state and a fluid.\n",
      "[]\n"
     ]
    }
   ],
   "source": [
    "states_of_matter = ['solid', 'liquid', 'gas']\n",
    "for state in states_of_matter:\n",
    "    print(f'{state.title()} is a state of matter.')\n",
    "print(f'{states_of_matter[0].title()} is not a fluid.')\n",
    "states_of_matter[0] = 'plasma'\n",
    "for state in states_of_matter:\n",
    "    print(f'{state.title()} is a fluid.')\n",
    "print('New fluids to add.')\n",
    "states_of_matter.insert(0, 'superfluid')\n",
    "states_of_matter.insert(2, 'quark-gluon plasma')\n",
    "states_of_matter.insert(-1, 'liquid crystal')\n",
    "for state in states_of_matter:\n",
    "    print(f'{state.title()} is a fluid.')\n",
    "print('Only classical states of matter allowed.')\n",
    "popped = states_of_matter.pop(0)\n",
    "print(f'{popped.title()} is not a classical state.')\n",
    "popped = states_of_matter.pop(1)\n",
    "print(f'{popped.title()} is not a classical state.')\n",
    "popped = states_of_matter.pop(-2)\n",
    "print(f'{popped.title()} is not a classical state.')\n",
    "for state in states_of_matter:\n",
    "    print(f'{state.title()} is a classical state and a fluid.')\n",
    "del states_of_matter[0]\n",
    "del states_of_matter[0]\n",
    "del states_of_matter[0]\n",
    "print(states_of_matter)"
   ]
  },
  {
   "cell_type": "code",
   "execution_count": 1,
   "id": "de4d3f0d",
   "metadata": {},
   "outputs": [
    {
     "name": "stdout",
     "output_type": "stream",
     "text": [
      "['mazda', 'toyota', 'hyundai', 'tesla']\n",
      "['mazda', 'toyota', 'hyundai']\n",
      "['mazda', 'hyundai']\n",
      "Currently I own a Toyota.\n",
      "['mazda']\n",
      "Removed Hyundai out of random.\n"
     ]
    }
   ],
   "source": [
    "cars = ['toyota', 'hyundai']\n",
    "cars.append('tesla')\n",
    "cars.insert(0, 'mazda')\n",
    "print(cars)\n",
    "del cars[3]\n",
    "print(cars)\n",
    "my_car = cars.pop(1)\n",
    "print(cars)\n",
    "print(f'Currently I own a {my_car.title()}.')\n",
    "random = 'hyundai'\n",
    "cars.remove(random)\n",
    "print(cars)\n",
    "print(f'Removed {random.title()} out of random.')"
   ]
  },
  {
   "cell_type": "code",
   "execution_count": 12,
   "id": "628dd105",
   "metadata": {},
   "outputs": [
    {
     "name": "stdout",
     "output_type": "stream",
     "text": [
      "texas\n",
      "colorado\n",
      "california\n",
      "alaska\n",
      "I live in Texas.\n",
      "Texas is a state.\n",
      "Colorado is a state.\n",
      "California is a state.\n",
      "Alaska is a state.\n"
     ]
    }
   ],
   "source": [
    "states = ['texas', 'colorado', 'california', 'alaska']\n",
    "print(states[0])\n",
    "print(states[1])\n",
    "print(states[2])\n",
    "print(states[3])\n",
    "message = f'I live in {states[0].title()}.'\n",
    "print(message)\n",
    "for state in states:\n",
    "    print(f'{state.title()} is a state.')"
   ]
  }
 ],
 "metadata": {
  "kernelspec": {
   "display_name": "Python 3",
   "language": "python",
   "name": "python3"
  },
  "language_info": {
   "codemirror_mode": {
    "name": "ipython",
    "version": 3
   },
   "file_extension": ".py",
   "mimetype": "text/x-python",
   "name": "python",
   "nbconvert_exporter": "python",
   "pygments_lexer": "ipython3",
   "version": "3.13.1"
  }
 },
 "nbformat": 4,
 "nbformat_minor": 5
}
