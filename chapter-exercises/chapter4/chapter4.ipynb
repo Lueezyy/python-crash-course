{
 "cells": [
  {
   "cell_type": "code",
   "execution_count": 103,
   "id": "9fb91ace",
   "metadata": {},
   "outputs": [
    {
     "name": "stdout",
     "output_type": "stream",
     "text": [
      "30\n",
      "90\n",
      "\n",
      "Triangle angles:\n",
      "30\n",
      "60\n",
      "90\n",
      "\n",
      "Circle angles:\n",
      "60\n",
      "120\n",
      "180\n"
     ]
    }
   ],
   "source": [
    "angles = 30, 60, 90\n",
    "print(angles[0])\n",
    "print(angles[-1])\n",
    "\n",
    "print('\\nTriangle angles:')\n",
    "for angle in angles:\n",
    "    print(angle)\n",
    "\n",
    "angles = 60, 120, 180\n",
    "print('\\nCircle angles:')\n",
    "for angle in angles:\n",
    "    print(angle)"
   ]
  },
  {
   "cell_type": "code",
   "execution_count": 94,
   "id": "78543362",
   "metadata": {},
   "outputs": [
    {
     "name": "stdout",
     "output_type": "stream",
     "text": [
      "These are types of berries:\n",
      "['strawberries', 'blueberries', 'blackberries', 'raspberries', 'cranberries', 'grapes']\n",
      "Botanically speaking, these are not true berries:\n",
      "['strawberries', 'blackberries', 'raspberries']\n",
      "strawberries\n",
      "blueberries\n",
      "blackberries\n",
      "raspberries\n",
      "cranberries\n",
      "grapes\n"
     ]
    }
   ],
   "source": [
    "berries = ['strawberries', 'blueberries', 'blackberries', 'raspberries', 'cranberries']\n",
    "berries.append('grapes')\n",
    "false_berries = berries[:]\n",
    "del (false_berries[1])\n",
    "del (false_berries[-1])\n",
    "del (false_berries[-1])\n",
    "print('These are types of berries:')\n",
    "print(berries)\n",
    "print('Botanically speaking, these are not true berries:')\n",
    "print(false_berries)\n",
    "for berry in berries:\n",
    "    print(berry)"
   ]
  },
  {
   "cell_type": "code",
   "execution_count": 93,
   "id": "4be919ef",
   "metadata": {},
   "outputs": [
    {
     "name": "stdout",
     "output_type": "stream",
     "text": [
      "The first 3 birds on this list are: ['vultures', 'geese', 'crows']\n",
      "The last 3 birds on this list are:['vultures', 'geese', 'crows']\n",
      "The birds in the middle of the list are: ['geese', 'crows', 'owls']\n",
      "['crows', 'owls', 'hawks']\n",
      "['vultures', 'crows', 'hawks']\n",
      "Some widespread birds include:\n",
      "Vultures\n",
      "Geese\n",
      "Crows\n"
     ]
    }
   ],
   "source": [
    "birds = ['vultures', 'geese', 'crows', 'owls', 'hawks']\n",
    "print(f'The first 3 birds on this list are: {birds[:3]}')\n",
    "print(f'The last 3 birds on this list are:{birds[:3]}')\n",
    "mid = len(birds)//2\n",
    "print(f'The birds in the middle of the list are: {birds[mid-1:mid+2]}')\n",
    "print(birds[-3:])\n",
    "print(birds[0:5:2])\n",
    "print('Some widespread birds include:')\n",
    "for bird in birds[:3]:\n",
    "    print(bird.title())"
   ]
  },
  {
   "cell_type": "code",
   "execution_count": 60,
   "id": "411004c7",
   "metadata": {},
   "outputs": [
    {
     "name": "stdout",
     "output_type": "stream",
     "text": [
      "1\n",
      "2\n",
      "3\n",
      "4\n",
      "5\n",
      "6\n",
      "7\n",
      "8\n",
      "9\n",
      "10\n",
      "1\n",
      "100000\n",
      "5000050000\n",
      "[1, 3, 5, 7, 9, 11, 13, 15, 17, 19]\n",
      "[3, 6, 9, 12, 15, 18, 21, 24, 27, 30]\n",
      "[1, 8, 27, 64, 125, 216, 343, 512, 729, 1000, 1331, 1728]\n"
     ]
    }
   ],
   "source": [
    "for num in range(1, 11):\n",
    "    print(num)\n",
    "one_mil = [i for i in range(1, 100001)]\n",
    "print(min(one_mil))\n",
    "print(max(one_mil))\n",
    "print(sum(one_mil))\n",
    "odds = [num for num in range(1, 21, 2)]\n",
    "print(odds)\n",
    "threes = [num for num in range(3, 31, 3)]\n",
    "print(threes)\n",
    "cubes = [num**3 for num in range(1, 13)]\n",
    "print(cubes)"
   ]
  },
  {
   "cell_type": "code",
   "execution_count": 39,
   "id": "691d3873",
   "metadata": {},
   "outputs": [
    {
     "name": "stdout",
     "output_type": "stream",
     "text": [
      "0\n",
      "9\n",
      "45\n"
     ]
    }
   ],
   "source": [
    "digits = [i for i in range(0, 10)]\n",
    "print(min(digits))\n",
    "print(max(digits))\n",
    "print(sum(digits))"
   ]
  },
  {
   "cell_type": "code",
   "execution_count": 33,
   "id": "b6be9149",
   "metadata": {},
   "outputs": [
    {
     "name": "stdout",
     "output_type": "stream",
     "text": [
      "[1, 2, 6, 24, 120]\n",
      "[1, 4, 9, 16, 25, 36, 49, 64, 81, 100, 121, 144]\n"
     ]
    }
   ],
   "source": [
    "ns = []\n",
    "n_fac = 1\n",
    "for x in range(1, 6):\n",
    "    n_fac = n_fac * x\n",
    "    ns.append(n_fac)\n",
    "print(ns)\n",
    "\n",
    "squares = []\n",
    "for x in range(1, 13):\n",
    "    squares.append(x ** 2)\n",
    "print(squares)"
   ]
  },
  {
   "cell_type": "code",
   "execution_count": 21,
   "id": "701d66f9",
   "metadata": {},
   "outputs": [
    {
     "name": "stdout",
     "output_type": "stream",
     "text": [
      "0\n",
      "1\n",
      "2\n",
      "0\n",
      "1\n",
      "2\n",
      "[1, 2, 3]\n",
      "[2, 4, 6, 8, 10]\n"
     ]
    }
   ],
   "source": [
    "for x in range(0, 3):\n",
    "    print(x)\n",
    "for y in range(3):\n",
    "    print(y)\n",
    "nums = list(range(1, 4))\n",
    "print(nums)\n",
    "even_nums = list(range(2, 11, 2))\n",
    "print(even_nums)"
   ]
  },
  {
   "cell_type": "code",
   "execution_count": 11,
   "id": "2bcb16ac",
   "metadata": {},
   "outputs": [
    {
     "name": "stdout",
     "output_type": "stream",
     "text": [
      "A Border Collie would make a great dog!\n",
      "A Labrador Retriever would make a great dog!\n",
      "A German Shepherd would make a great dog!\n",
      "A Vizsla would make a great dog!\n",
      "Any of these breed would make great dogs!\n"
     ]
    }
   ],
   "source": [
    "breeds = ['border collie', 'labrador retriever', 'german shepherd', 'vizsla']\n",
    "for breed in breeds:\n",
    "    print(f'A {breed.title()} would make a great dog!')\n",
    "print('Any of these breed would make great dogs!')"
   ]
  },
  {
   "cell_type": "code",
   "execution_count": 6,
   "id": "6f2b6005",
   "metadata": {},
   "outputs": [
    {
     "name": "stdout",
     "output_type": "stream",
     "text": [
      " I like to eat salmon.\n",
      " I like to eat beef.\n",
      " I like to eat chicken.\n",
      " I like to eat pork.\n",
      "Meat is a good source of protein!\n"
     ]
    }
   ],
   "source": [
    "meats = ['salmon', 'beef', 'chicken', 'pork']\n",
    "for meat in meats:\n",
    "    print(f' I like to eat {meat}.')\n",
    "print('Meat is a good source of protein!')"
   ]
  },
  {
   "cell_type": "code",
   "execution_count": 7,
   "id": "663a408c",
   "metadata": {},
   "outputs": [
    {
     "name": "stdout",
     "output_type": "stream",
     "text": [
      "Houston is a city in Texas.\n",
      "I wonder how many sq miles Houston is.\n",
      "\n",
      "Dallas is a city in Texas.\n",
      "I wonder how many sq miles Dallas is.\n",
      "\n",
      "Austin is a city in Texas.\n",
      "I wonder how many sq miles Austin is.\n",
      "\n",
      "These are pretty big cities.\n"
     ]
    }
   ],
   "source": [
    "cities = ['houston', 'dallas', 'austin']\n",
    "for city in cities:\n",
    "    print(f'{city.title()} is a city in Texas.')\n",
    "    print(f'I wonder how many sq miles {city.title()} is.\\n')\n",
    "print('These are pretty big cities.')"
   ]
  }
 ],
 "metadata": {
  "kernelspec": {
   "display_name": "Python 3",
   "language": "python",
   "name": "python3"
  },
  "language_info": {
   "codemirror_mode": {
    "name": "ipython",
    "version": 3
   },
   "file_extension": ".py",
   "mimetype": "text/x-python",
   "name": "python",
   "nbconvert_exporter": "python",
   "pygments_lexer": "ipython3",
   "version": "3.13.1"
  }
 },
 "nbformat": 4,
 "nbformat_minor": 5
}
