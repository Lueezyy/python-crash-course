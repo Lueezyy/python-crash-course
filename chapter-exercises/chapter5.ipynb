{
 "cells": [
  {
   "cell_type": "code",
   "execution_count": 55,
   "id": "a495ce60",
   "metadata": {},
   "outputs": [
    {
     "name": "stdout",
     "output_type": "stream",
     "text": [
      "Attack is important, well done carrying a sword.\n",
      "Spells are important, well done carrying a fireball.\n",
      "You are well prepared.\n"
     ]
    }
   ],
   "source": [
    "items = ['fireball', 'sword', 'map']\n",
    "if 'shield' in items:\n",
    "    print(f'Protection is important, well done carrying a shield.')\n",
    "if 'sword' in items:\n",
    "    print(f'Attack is important, well done carrying a sword.')\n",
    "if 'fireball' in items:\n",
    "    print('Spells are important, well done carrying a fireball.')\n",
    "if len(items) > 2:\n",
    "    print('You are well prepared.')\n",
    "else:\n",
    "    print('Consider more preparation.')"
   ]
  },
  {
   "cell_type": "code",
   "execution_count": 53,
   "id": "f9cd2fab",
   "metadata": {},
   "outputs": [
    {
     "name": "stdout",
     "output_type": "stream",
     "text": [
      "Intermediate.\n"
     ]
    }
   ],
   "source": [
    "level = 45\n",
    "if level > 0 and level < 5:\n",
    "    print('Beginner.')\n",
    "elif level < 15:\n",
    "    print('Novice.')\n",
    "elif level < 50:\n",
    "    print('Intermediate.')\n",
    "elif level < 90:\n",
    "    print('Advanced.')\n",
    "elif level < 100:\n",
    "    print('Master.')\n",
    "elif level == 100:\n",
    "    print('Grandmaster.')"
   ]
  },
  {
   "cell_type": "code",
   "execution_count": 50,
   "id": "1f305145",
   "metadata": {},
   "outputs": [
    {
     "name": "stdout",
     "output_type": "stream",
     "text": [
      "You won!\n"
     ]
    }
   ],
   "source": [
    "placement = 1\n",
    "if placement == 1:\n",
    "    print('You won!')\n",
    "elif placement ==2:\n",
    "    print('You placed second. Try harder.')\n",
    "elif placement == 3:\n",
    "    print('3rd? What a loser.')\n",
    "elif placement > 0 and placement <= 10:\n",
    "    print(\"You lost, try again, or don't.\")\n",
    "else:\n",
    "    print('Scared to attempt?')"
   ]
  },
  {
   "cell_type": "code",
   "execution_count": 41,
   "id": "79ab975b",
   "metadata": {},
   "outputs": [
    {
     "name": "stdout",
     "output_type": "stream",
     "text": [
      "Stopping at Sainsbury's.\n",
      "Stopping at Tesco's.\n",
      "All done shopping!\n"
     ]
    }
   ],
   "source": [
    "shops = [\"Sainsbury's\", \"Tesco's\"]\n",
    "if \"Sainsbury's\" in shops:\n",
    "    print(\"Stopping at Sainsbury's.\")\n",
    "if \"Tesco's\" in shops:\n",
    "    print(\"Stopping at Tesco's.\")\n",
    "if 'Aldi' in shops:\n",
    "    print(\"Stopping at Co-Op.\")\n",
    "print(\"All done shopping!\")"
   ]
  },
  {
   "cell_type": "code",
   "execution_count": 38,
   "id": "6566f8f6",
   "metadata": {},
   "outputs": [
    {
     "name": "stdout",
     "output_type": "stream",
     "text": [
      "prehistoric\n"
     ]
    }
   ],
   "source": [
    "year = 1999\n",
    "if year < 2000:\n",
    "    decade = 'prehistoric'\n",
    "elif year < 2010:\n",
    "    decade = \"2000's\"\n",
    "elif year < 2020:\n",
    "    decade = \"2010's\"\n",
    "elif year < 2030:\n",
    "    decade = \"current decade\"\n",
    "print(decade)"
   ]
  },
  {
   "cell_type": "code",
   "execution_count": 36,
   "id": "eeb4c070",
   "metadata": {},
   "outputs": [
    {
     "name": "stdout",
     "output_type": "stream",
     "text": [
      "120 is not a positive single nor double digit.\n"
     ]
    }
   ],
   "source": [
    "num = 120\n",
    "if num >= 0 and num < 10:\n",
    "    print(f'{num} is a single digit.')\n",
    "elif num > 9 and num < 100:\n",
    "    print(f'{num} is a double digit.')\n",
    "else:\n",
    "    print(f'{num} is not a positive single nor double digit.')"
   ]
  },
  {
   "cell_type": "code",
   "execution_count": 33,
   "id": "5718b177",
   "metadata": {},
   "outputs": [
    {
     "name": "stdout",
     "output_type": "stream",
     "text": [
      "Your name is Luis\n",
      "It is... right?\n"
     ]
    }
   ],
   "source": [
    "name = 'luis'\n",
    "if name.lower() == 'luis':\n",
    "    print(f'Your name is {name.title()}')\n",
    "    print(f'It is... right?')\n",
    "else:\n",
    "    print(\"I don't know your name.\")"
   ]
  },
  {
   "cell_type": "code",
   "execution_count": 28,
   "id": "cb30bb62",
   "metadata": {},
   "outputs": [
    {
     "name": "stdout",
     "output_type": "stream",
     "text": [
      "False\n",
      "True\n",
      "['pencils', 'paper', 'pens', 'erasers']\n",
      "Need to order binders.\n",
      "Is stock[0] == pencils? I say True.\n",
      "True\n",
      "Is stock[-1] == paper? I say False.\n",
      "False\n",
      "Marker == marker results in False.\n",
      "item.lower() == binders results in True.\n",
      "-100 > -99 results in False.\n",
      "item == binders and item.lower() == binders results in True\n",
      "item ==  binders  or item.lower() ==  binders  results in False\n"
     ]
    }
   ],
   "source": [
    "stock = ['pencils', 'paper', 'pens', 'erasers']\n",
    "check = 'markers' in stock\n",
    "print(check)\n",
    "check = 'pencils' in stock\n",
    "print(check)\n",
    "print(stock)\n",
    "item = 'binders'\n",
    "if item not in stock:\n",
    "    print(f'Need to order {item}.')\n",
    "print('Is stock[0] == pencils? I say True.')\n",
    "print(stock[0] == 'pencils')\n",
    "print('Is stock[-1] == paper? I say False.')\n",
    "print(stock[-1] == 'paper')\n",
    "print(f\"Marker == marker results in {'Marker' == 'marker'}.\")\n",
    "print(f\"item.lower() == binders results in {item.lower() == 'binders'}.\")\n",
    "print(f'-100 > -99 results in {-100 > -99}.')\n",
    "print(f'item == binders and item.lower() == binders results in {item == 'binders' and item.lower() == 'binders'}')\n",
    "print(f'item ==  binders  or item.lower() ==  binders  results in {item == ' binders ' and item.lower() == ' binders '}')"
   ]
  },
  {
   "cell_type": "code",
   "execution_count": 13,
   "id": "38a972f7",
   "metadata": {},
   "outputs": [
    {
     "name": "stdout",
     "output_type": "stream",
     "text": [
      "False\n",
      "True\n",
      "True\n"
     ]
    }
   ],
   "source": [
    "num = 1\n",
    "num2 = 3\n",
    "print(num > 2 and num2 > 2)\n",
    "num = 4\n",
    "print(num > 2 and num2 > 2)\n",
    "num = 0\n",
    "print(num > 2 or num2 > 2)"
   ]
  },
  {
   "cell_type": "code",
   "execution_count": 9,
   "id": "1ca73d73",
   "metadata": {},
   "outputs": [
    {
     "name": "stdout",
     "output_type": "stream",
     "text": [
      "1 is not 0.\n",
      "1 is greater than 0.\n",
      "1 is greater or equal to 0.\n"
     ]
    }
   ],
   "source": [
    "number = 1\n",
    "if number != 0:\n",
    "    print(f'{number} is not 0.')\n",
    "if number > 0:\n",
    "    print(f'{number} is greater than 0.')\n",
    "if number >=  0:\n",
    "    print(f'{number} is greater or equal to 0.')\n",
    "if number < 0:\n",
    "    print(f'{number} is less than 0.')\n",
    "if number <= 0:\n",
    "    print(f'{number} is less than or equal to 0.')"
   ]
  },
  {
   "cell_type": "code",
   "execution_count": 7,
   "id": "423c6f12",
   "metadata": {},
   "outputs": [
    {
     "name": "stdout",
     "output_type": "stream",
     "text": [
      "SAT\n",
      "A-Levels\n",
      "Gaokao\n",
      "JEE\n",
      "True\n",
      "JEE is not American.\n"
     ]
    }
   ],
   "source": [
    "tests = ['sat', 'a-levels', 'gaokao', 'jee']\n",
    "for test in tests:\n",
    "    if test == 'sat':\n",
    "        print(test.upper())\n",
    "    elif test == 'jee':\n",
    "        print(test.upper())\n",
    "    else:\n",
    "        print(test.title())\n",
    "us_test = 'SAT'\n",
    "print(us_test.lower() == 'sat')\n",
    "if us_test.lower() != 'jee':\n",
    "    print('JEE is not American.')"
   ]
  }
 ],
 "metadata": {
  "kernelspec": {
   "display_name": "Python 3",
   "language": "python",
   "name": "python3"
  },
  "language_info": {
   "codemirror_mode": {
    "name": "ipython",
    "version": 3
   },
   "file_extension": ".py",
   "mimetype": "text/x-python",
   "name": "python",
   "nbconvert_exporter": "python",
   "pygments_lexer": "ipython3",
   "version": "3.13.1"
  }
 },
 "nbformat": 4,
 "nbformat_minor": 5
}
