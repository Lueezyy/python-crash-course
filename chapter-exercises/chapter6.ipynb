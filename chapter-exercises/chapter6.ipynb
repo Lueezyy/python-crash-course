{
 "cells": [
  {
   "cell_type": "code",
   "execution_count": 29,
   "id": "020a7569",
   "metadata": {},
   "outputs": [
    {
     "name": "stdout",
     "output_type": "stream",
     "text": [
      "\n",
      "Username: aeinstein\n",
      "\tUser Profile:\n",
      "\tFull name: Albert Einstein\n",
      "\tLocation: Princeton\n",
      "\tStudy: Theoretical Physics\n",
      "\n",
      "Username: mcurie\n",
      "\tUser Profile:\n",
      "\tFull name: Marie Curie\n",
      "\tLocation: Paris\n",
      "\tStudy: Radioactivity\n"
     ]
    }
   ],
   "source": [
    "users = {\n",
    "    'aeinstein' : {\n",
    "        'first' : 'albert',\n",
    "        'last' : 'einstein',\n",
    "        'location' : 'princeton',\n",
    "        'study' : 'theoretical physics'\n",
    "    },\n",
    "    'mcurie' : {\n",
    "        'first' : 'marie',\n",
    "        'last' : 'curie',\n",
    "        'location' : 'paris',\n",
    "        'study' : 'radioactivity'\n",
    "    }\n",
    "}\n",
    "for username, user_info in users.items():\n",
    "    print(f'\\nUsername: {username}')\n",
    "    print('\\tUser Profile:')\n",
    "    full_name = f'{user_info['first']} {user_info['last']}'\n",
    "    location = user_info['location']\n",
    "    study = user_info['study']\n",
    "    print(f'\\tFull name: {full_name.title()}')\n",
    "    print(f'\\tLocation: {location.title()}')\n",
    "    print(f'\\tStudy: {study.title()}')"
   ]
  },
  {
   "cell_type": "code",
   "execution_count": 25,
   "id": "63ded67d",
   "metadata": {},
   "outputs": [
    {
     "name": "stdout",
     "output_type": "stream",
     "text": [
      "\n",
      "Tokyo\n",
      "Country : Japan\n",
      "Population : 14196000\n",
      "Fact : has world's busiest train station.\n",
      "\n",
      "New York City\n",
      "Country : United States\n",
      "Population : 8804000\n",
      "Fact : has world's first underground park.\n",
      "\n",
      "London\n",
      "Country : England\n",
      "Population : 8800000\n",
      "Fact : has a secret underground mail railway.\n"
     ]
    }
   ],
   "source": [
    "cities = {\n",
    "    'tokyo' : {\n",
    "        'country' : 'japan',\n",
    "        'population' : 14196000,\n",
    "        'fact' : \"has world's busiest train station.\"\n",
    "        },\n",
    "    'new york city' : {\n",
    "        'country' : 'united States',\n",
    "        'population' : 8804000,\n",
    "        'fact' : \"has world's first underground park.\"\n",
    "        },\n",
    "    'london' : {\n",
    "        'country' : 'england',\n",
    "        'population' : 8800000, \n",
    "        'fact' : 'has a secret underground mail railway.'\n",
    "        }\n",
    "    }\n",
    "for city, facts in cities.items():\n",
    "    print(f'\\n{city.title()}')\n",
    "    for category, fact in facts.items():\n",
    "        if category == 'country':\n",
    "            print(f'{category.title()} : {fact.title()}')\n",
    "        else:\n",
    "            print(f'{category.title()} : {fact}')"
   ]
  },
  {
   "cell_type": "code",
   "execution_count": 14,
   "id": "eeb04a8b",
   "metadata": {},
   "outputs": [
    {
     "name": "stdout",
     "output_type": "stream",
     "text": [
      "\n",
      "Country: \n",
      "Italy\n",
      "\n",
      "Attractions:\n",
      "Colosseum\n",
      "Leaning Tower\n",
      "\n",
      "Country: \n",
      "Japan\n",
      "\n",
      "Attractions:\n",
      "Mount Fuji\n",
      "Fushimi Inari Shrine\n",
      "\n",
      "Country: \n",
      "Egypt\n",
      "\n",
      "Attractions:\n",
      "Giza Pyramids\n",
      "Karnak Temple\n"
     ]
    }
   ],
   "source": [
    "places = {\n",
    "    'italy' : ['colosseum', 'leaning tower'],\n",
    "    'japan' : ['mount fuji', 'fushimi inari shrine'],\n",
    "    'egypt' : ['giza pyramids', 'karnak temple']\n",
    "    }\n",
    "for place, attractions in places.items():\n",
    "    print(f'\\nCountry: \\n{place.title()}\\n\\nAttractions:')\n",
    "    for attraction in attractions:\n",
    "        print(attraction.title())"
   ]
  },
  {
   "cell_type": "code",
   "execution_count": 8,
   "id": "6debd1a4",
   "metadata": {},
   "outputs": [
    {
     "name": "stdout",
     "output_type": "stream",
     "text": [
      "A Snake named Python.\n",
      "A Dog named Canis.\n",
      "A Cat named Felis.\n"
     ]
    }
   ],
   "source": [
    "pet0 = {'animal' : 'snake', 'name' : 'python'}\n",
    "pet1 = {'animal' : 'dog', 'name' : 'canis'}\n",
    "pet2 = {'animal' : 'cat', 'name' : 'felis'}\n",
    "pets = [pet0, pet1, pet2]\n",
    "for pet in pets:\n",
    "    animal = pet['animal']\n",
    "    name = pet['name']\n",
    "    print(f'A {animal.title()} named {name.title()}.')"
   ]
  },
  {
   "cell_type": "code",
   "execution_count": 6,
   "id": "432907e7",
   "metadata": {},
   "outputs": [
    {
     "name": "stdout",
     "output_type": "stream",
     "text": [
      "Number : 4 \n",
      "Multiples : [1, 2, 4]\n",
      "Number : 6 \n",
      "Multiples : [1, 2, 3, 6]\n",
      "Number : 7 \n",
      "Multiples : [1, 7]\n"
     ]
    }
   ],
   "source": [
    "numbers = {\n",
    "    4 : [1, 2, 4],\n",
    "    6 : [1, 2, 3, 6],\n",
    "    7 : [1, 7]\n",
    "    }\n",
    "for number, multiples in numbers.items():\n",
    "    print(f'Number : {number} \\nMultiples : {multiples}')"
   ]
  },
  {
   "cell_type": "code",
   "execution_count": 19,
   "id": "07d1ae05",
   "metadata": {},
   "outputs": [
    {
     "name": "stdout",
     "output_type": "stream",
     "text": [
      "\n",
      "Name : polar bear\n",
      "Binomial name : Ursus Maritmus\n",
      "Location : Arctic\n",
      "\n",
      "Name : giant panda\n",
      "Binomial name : Ailuropoda Melanoleuca\n",
      "Location : China\n"
     ]
    }
   ],
   "source": [
    "bears = {'polar bear' : {\n",
    "        'genus' : 'ursus',\n",
    "        'species' : 'maritmus',\n",
    "        'location' : 'arctic'\n",
    "        },\n",
    "        'giant panda' : {\n",
    "        'genus' : 'ailuropoda',\n",
    "        'species' : 'melanoleuca',\n",
    "        'location' : 'china'\n",
    "        }\n",
    "    }\n",
    "for bear, bear_info in bears.items():\n",
    "    print(f'\\nName : {bear}')\n",
    "    binomial_name = f'{bear_info['genus']} {bear_info['species']}'\n",
    "    location = bear_info['location']\n",
    "    print(f'Binomial name : {binomial_name.title()}')\n",
    "    print(f'Location : {location.title()}')"
   ]
  },
  {
   "cell_type": "code",
   "execution_count": 15,
   "id": "b2eaa15d",
   "metadata": {},
   "outputs": [
    {
     "name": "stdout",
     "output_type": "stream",
     "text": [
      "France has Paris.\n",
      "\n",
      "England has the following cities:\n",
      "\tColchester\n",
      "\tLondon\n",
      "\tManchester\n",
      "\n",
      "United States has the following cities:\n",
      "\tHouston\n",
      "\tNew York\n"
     ]
    }
   ],
   "source": [
    "cities = {\n",
    "    'france' : ['paris'],\n",
    "    'england' : ['colchester', 'london', 'manchester'],\n",
    "    'united states' : ['houston', 'new york']\n",
    "    }\n",
    "for country, c in cities.items():\n",
    "    if len(c) == 1:\n",
    "        print(f'{country.title()} has {c[0].title()}.')\n",
    "    else:\n",
    "        print(f'\\n{country.title()} has the following cities:')\n",
    "        for city in c:\n",
    "            print(f'\\t{city.title()}')"
   ]
  },
  {
   "cell_type": "code",
   "execution_count": 11,
   "id": "9d7aa2c1",
   "metadata": {},
   "outputs": [
    {
     "name": "stdout",
     "output_type": "stream",
     "text": [
      "England has the following cities:\n",
      "\tLondon\n",
      "\tBristol\n",
      "\tBrighton\n"
     ]
    }
   ],
   "source": [
    "country = {\n",
    "    'name' : 'england',\n",
    "    'cities' : ['london', 'bristol', 'brighton']\n",
    "    }\n",
    "print(f'{country['name'].title()} '\n",
    "      'has the following cities:')\n",
    "for city in country['cities']:\n",
    "    print(f'\\t{city.title()}')"
   ]
  },
  {
   "cell_type": "code",
   "execution_count": 9,
   "id": "909a9353",
   "metadata": {},
   "outputs": [
    {
     "name": "stdout",
     "output_type": "stream",
     "text": [
      "{'height': 2.73, 'weight': 3500}\n",
      "{'height': 2.73, 'weight': 3500}\n",
      "{'height': 2.73, 'weight': 3500}\n",
      "{'height': 3.36, 'weight': 6900}\n",
      "{'height': 3.36, 'weight': 6900}\n",
      "...\n",
      "Total number of elephants: 15\n"
     ]
    }
   ],
   "source": [
    "elephants = []\n",
    "for elephant_number in range(15):\n",
    "    new_elephant = {'height' : 3.36, 'weight' : 6900}\n",
    "    elephants.append(new_elephant)\n",
    "for elephant in elephants[:3]:\n",
    "    if elephant['height'] == 3.36:\n",
    "        elephant['height'] = 2.73\n",
    "        elephant['weight'] = 3500\n",
    "    elif elephant['height'] == 2.73:\n",
    "        elephant['height'] = 3.96\n",
    "        elephant['weight'] = 10400\n",
    "for elephant in elephants[:5]:\n",
    "    print(elephant)\n",
    "print('...')\n",
    "print(f'Total number of elephants: {len(elephants)}')"
   ]
  },
  {
   "cell_type": "code",
   "execution_count": 5,
   "id": "873923fc",
   "metadata": {},
   "outputs": [
    {
     "name": "stdout",
     "output_type": "stream",
     "text": [
      "Whale measurements :\n",
      "{'length': 30, 'weight': 150}\n",
      "{'length': 27, 'weight': 130}\n",
      "{'length': 32, 'weight': 154}\n"
     ]
    }
   ],
   "source": [
    "whale_0 = {'length' : 30, 'weight' : 150}\n",
    "whale_1 = {'length' : 27, 'weight' : 130}\n",
    "whale_2 = {'length' : 32, 'weight' : 154}\n",
    "whales = [whale_0, whale_1, whale_2]\n",
    "print('Whale measurements :')\n",
    "for whale in whales:\n",
    "    print(whale)"
   ]
  },
  {
   "cell_type": "code",
   "execution_count": 54,
   "id": "e21e302b",
   "metadata": {},
   "outputs": [
    {
     "name": "stdout",
     "output_type": "stream",
     "text": [
      "The Nile River flows through Egypt.\n",
      "The Amazon River flows through Brazil.\n",
      "The Yangtze River flows through China.\n",
      "The Mississippi-Missouri River flows through United States.\n",
      "The Yenisei River flows through Russia.\n"
     ]
    }
   ],
   "source": [
    "rivers = {\n",
    "    'nile' : 'egypt',\n",
    "    'amazon' : 'brazil',\n",
    "    'yangtze' : 'china',\n",
    "    'mississippi-missouri' : 'united states',\n",
    "    'yenisei' : 'russia'\n",
    "    }\n",
    "for river, country in rivers.items():\n",
    "    print(f'The {river.title()} River flows through {country.title()}.')"
   ]
  },
  {
   "cell_type": "code",
   "execution_count": 50,
   "id": "dbe91106",
   "metadata": {},
   "outputs": [
    {
     "name": "stdout",
     "output_type": "stream",
     "text": [
      "{'spain', 'germany', 'italy'}\n"
     ]
    }
   ],
   "source": [
    "countries = {'germany', 'spain', 'italy', 'italy'}\n",
    "print(countries)"
   ]
  },
  {
   "cell_type": "code",
   "execution_count": 25,
   "id": "d76be300",
   "metadata": {},
   "outputs": [
    {
     "name": "stdout",
     "output_type": "stream",
     "text": [
      "\n",
      "Key: country\n",
      "Value : croatia\n",
      "\n",
      "Key: first_name\n",
      "Value : luka\n",
      "\n",
      "Key: last_name\n",
      "Value : modric\n"
     ]
    }
   ],
   "source": [
    "player = {\n",
    "    'country' : 'croatia',\n",
    "    'first_name' : 'luka',\n",
    "    'last_name' : 'modric'\n",
    "    }\n",
    "for k, v in player.items():\n",
    "    print(f'\\nKey: {k}')\n",
    "    print(f'Value : {v}')"
   ]
  },
  {
   "cell_type": "code",
   "execution_count": 51,
   "id": "4f8cc8f0",
   "metadata": {},
   "outputs": [
    {
     "name": "stdout",
     "output_type": "stream",
     "text": [
      "Dictionary - collection of key-value pairs.\n",
      "Loop - repeats code when true or for each item in a sequence.\n",
      "List - ordered collection of data.\n",
      "Data Type - integers, floats, strings, and booleans.\n",
      "Variable - named storage that holds data values.\n",
      "Sets - unordered collections of unique values.\n",
      "Comment - line ignored by Python used to explain.\n",
      "String - sequence of characters to show text.\n",
      "Boolean - true or false.\n",
      "Indent - spaces at beginning of line that groups code together.\n"
     ]
    }
   ],
   "source": [
    "glossary = {\n",
    "    'dictionary' : 'collection of key-value pairs.',\n",
    "    'loop' : 'repeats code when true or for each item in a sequence.',\n",
    "    'list' : 'ordered collection of data.',\n",
    "    'data type' : 'integers, floats, strings, and booleans.',\n",
    "    'variable' : 'named storage that holds data values.',\n",
    "    'sets' : 'unordered collections of unique values.',\n",
    "    'comment' : 'line ignored by Python used to explain.',\n",
    "    'string' : 'sequence of characters to show text.',\n",
    "    'boolean' : 'true or false.',\n",
    "    'indent' : 'spaces at beginning of line that groups code together.'\n",
    "    }\n",
    "for word, definition in glossary.items():\n",
    "    print(f'{word.title()} - {definition}')"
   ]
  },
  {
   "cell_type": "code",
   "execution_count": 56,
   "id": "29fabf6e",
   "metadata": {},
   "outputs": [
    {
     "name": "stdout",
     "output_type": "stream",
     "text": [
      "Neymar is not top 4 in goals in Champion's League.\n",
      "\n",
      "\n",
      "Ronaldo : 140\n",
      "Messi : 129\n",
      "Lewandowski : 105\n",
      "Benzema : 90\n",
      "\n",
      "\n",
      "Ronaldo\n",
      "\tRonaldo has scored 140 goals in Champion's League.\n",
      "Messi\n",
      "\tMessi has scored 129 goals in Champion's League.\n",
      "Lewandowski\n",
      "\tLewandowski is not a top 2 scorer.\n",
      "Benzema\n",
      "\tBenzema is not a top 2 scorer.\n",
      "\n",
      "\n",
      "Benzema is in the top 4 Champion's League scorers.\n",
      "Lewandowski is in the top 4 Champion's League scorers.\n",
      "Messi is in the top 4 Champion's League scorers.\n",
      "Ronaldo is in the top 4 Champion's League scorers.\n",
      "\n",
      "\n",
      "The following are the number of goals of each top scorer:\n",
      "129\n",
      "90\n",
      "140\n",
      "105\n",
      "\n",
      "\n"
     ]
    }
   ],
   "source": [
    "most_goals = {\n",
    "    'ronaldo' : 140,\n",
    "    'messi' : 129,\n",
    "    'lewandowski' : 105,\n",
    "    'benzema' : 90\n",
    "    }\n",
    "if 'neymar' not in most_goals:\n",
    "    print(\"Neymar is not top 4 in goals in Champion's League.\")\n",
    "print('\\n')\n",
    "\n",
    "for name, goals in most_goals.items():\n",
    "    print(f'{name.title()} : {goals}')\n",
    "print('\\n')\n",
    "\n",
    "rivals = ['ronaldo', 'messi']\n",
    "for name in most_goals:\n",
    "    print(name.title())\n",
    "    if name in rivals:\n",
    "        goals = most_goals[name]\n",
    "        print(f\"\\t{name.title()} has scored {goals} goals in Champion's League.\")\n",
    "    else:\n",
    "        print(f'\\t{name.title()} is not a top 2 scorer.')\n",
    "print('\\n')\n",
    "\n",
    "for name in sorted(most_goals):\n",
    "    print(f\"{name.title()} is in the top 4 Champion's League scorers.\")\n",
    "print('\\n')\n",
    "\n",
    "print('The following are the number of goals of each top scorer:')\n",
    "for goals in set(most_goals.values()):\n",
    "    print(goals)\n",
    "print('\\n')\n",
    "\n"
   ]
  },
  {
   "cell_type": "code",
   "execution_count": null,
   "id": "1584cba5",
   "metadata": {},
   "outputs": [
    {
     "name": "stdout",
     "output_type": "stream",
     "text": [
      "Robert\n",
      "Lewandowkski\n",
      "36 years old.\n",
      "Poland\n",
      "\n",
      "Thomas\n",
      "Muller\n",
      "35 years old.\n",
      "Germany\n",
      "\n",
      "Kylian\n",
      "Mbappe\n",
      "26 years old.\n",
      "France\n",
      "\n"
     ]
    }
   ],
   "source": [
    "player0 = {'first_name' : 'robert', 'last_name' : 'lewandowkski', 'age' : 36, 'country' : 'poland'}\n",
    "player1 = {'first_name' : 'thomas', 'last_name' : 'muller', 'age' : 35, 'country' : 'germany'}\n",
    "player2 = {'first_name' : 'kylian', 'last_name' : 'mbappe', 'age' : 26, 'country' : 'france'}\n",
    "players = [player0, player1, player2]\n",
    "for player in players:\n",
    "    print(player['first_name'].title())\n",
    "    print(player['last_name'].title())\n",
    "    print(f'{player['age']} years old.')\n",
    "    print(f'{player['country'].title()}\\n')"
   ]
  },
  {
   "cell_type": "code",
   "execution_count": 5,
   "id": "5555864d",
   "metadata": {},
   "outputs": [
    {
     "name": "stdout",
     "output_type": "stream",
     "text": [
      "Dallas is located in Texas.\n"
     ]
    }
   ],
   "source": [
    "city_state = {\n",
    "    'houston' : 'texas',\n",
    "    'new york' : 'new york',\n",
    "    'dallas' : 'texas',\n",
    "    'chicago' : 'illinois'\n",
    "    }\n",
    "state = city_state['dallas'].title()\n",
    "print(f'Dallas is located in {state}.')"
   ]
  },
  {
   "cell_type": "code",
   "execution_count": 7,
   "id": "e081a583",
   "metadata": {},
   "outputs": [
    {
     "name": "stdout",
     "output_type": "stream",
     "text": [
      "The width of the rectangle is 10.\n",
      "The width of the rectangle is now 15.\n",
      "{'width': 15, 'length': 8}\n",
      "No depth assigned.\n"
     ]
    }
   ],
   "source": [
    "rectangle = {'width' : 10, 'length' : 8, 'depth' : 16}\n",
    "print(f'The width of the rectangle is {rectangle['width']}.')\n",
    "rectangle['width'] = 15\n",
    "print(f'The width of the rectangle is now {rectangle['width']}.')\n",
    "if rectangle['depth'] < 10:\n",
    "    difference = 10 - rectangle['depth']\n",
    "elif rectangle['depth'] > 10:\n",
    "    difference = rectangle['depth'] - 10\n",
    "elif rectangle['depth'] == 10:\n",
    "    print(f'The height of the rectangle is now 10.')\n",
    "del rectangle['depth']\n",
    "print(rectangle)\n",
    "depth = rectangle.get('depth', 'No depth assigned.')\n",
    "print(depth)"
   ]
  },
  {
   "cell_type": "code",
   "execution_count": null,
   "id": "21209fa8",
   "metadata": {},
   "outputs": [
    {
     "name": "stdout",
     "output_type": "stream",
     "text": [
      "{'capital': 'washington d.c.', 'continent': 'north america'}\n",
      "{'capital': 'washington d.c.', 'continent': 'north america', 'currency': 'usd', 'language': 'english'}\n"
     ]
    }
   ],
   "source": [
    "usa = {}\n",
    "usa['capital'] = 'washington d.c.'\n",
    "usa['continent'] = 'north america'\n",
    "print(usa)\n",
    "usa['currency'] = 'usd'\n",
    "usa['language'] = 'english' \n",
    "print(usa)"
   ]
  }
 ],
 "metadata": {
  "kernelspec": {
   "display_name": "Python 3",
   "language": "python",
   "name": "python3"
  },
  "language_info": {
   "codemirror_mode": {
    "name": "ipython",
    "version": 3
   },
   "file_extension": ".py",
   "mimetype": "text/x-python",
   "name": "python",
   "nbconvert_exporter": "python",
   "pygments_lexer": "ipython3",
   "version": "3.13.1"
  }
 },
 "nbformat": 4,
 "nbformat_minor": 5
}
