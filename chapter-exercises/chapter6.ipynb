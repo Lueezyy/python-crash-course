{
 "cells": [
  {
   "cell_type": "code",
   "execution_count": 54,
   "id": "e21e302b",
   "metadata": {},
   "outputs": [
    {
     "name": "stdout",
     "output_type": "stream",
     "text": [
      "The Nile River flows through Egypt.\n",
      "The Amazon River flows through Brazil.\n",
      "The Yangtze River flows through China.\n",
      "The Mississippi-Missouri River flows through United States.\n",
      "The Yenisei River flows through Russia.\n"
     ]
    }
   ],
   "source": [
    "rivers = {\n",
    "    'nile' : 'egypt',\n",
    "    'amazon' : 'brazil',\n",
    "    'yangtze' : 'china',\n",
    "    'mississippi-missouri' : 'united states',\n",
    "    'yenisei' : 'russia'\n",
    "    }\n",
    "for river, country in rivers.items():\n",
    "    print(f'The {river.title()} River flows through {country.title()}.')"
   ]
  },
  {
   "cell_type": "code",
   "execution_count": 50,
   "id": "dbe91106",
   "metadata": {},
   "outputs": [
    {
     "name": "stdout",
     "output_type": "stream",
     "text": [
      "{'spain', 'germany', 'italy'}\n"
     ]
    }
   ],
   "source": [
    "countries = {'germany', 'spain', 'italy', 'italy'}\n",
    "print(countries)"
   ]
  },
  {
   "cell_type": "code",
   "execution_count": 25,
   "id": "d76be300",
   "metadata": {},
   "outputs": [
    {
     "name": "stdout",
     "output_type": "stream",
     "text": [
      "\n",
      "Key: country\n",
      "Value : croatia\n",
      "\n",
      "Key: first_name\n",
      "Value : luka\n",
      "\n",
      "Key: last_name\n",
      "Value : modric\n"
     ]
    }
   ],
   "source": [
    "player = {\n",
    "    'country' : 'croatia',\n",
    "    'first_name' : 'luka',\n",
    "    'last_name' : 'modric'\n",
    "    }\n",
    "for k, v in player.items():\n",
    "    print(f'\\nKey: {k}')\n",
    "    print(f'Value : {v}')"
   ]
  },
  {
   "cell_type": "code",
   "execution_count": 51,
   "id": "4f8cc8f0",
   "metadata": {},
   "outputs": [
    {
     "name": "stdout",
     "output_type": "stream",
     "text": [
      "Dictionary - collection of key-value pairs.\n",
      "Loop - repeats code when true or for each item in a sequence.\n",
      "List - ordered collection of data.\n",
      "Data Type - integers, floats, strings, and booleans.\n",
      "Variable - named storage that holds data values.\n",
      "Sets - unordered collections of unique values.\n",
      "Comment - line ignored by Python used to explain.\n",
      "String - sequence of characters to show text.\n",
      "Boolean - true or false.\n",
      "Indent - spaces at beginning of line that groups code together.\n"
     ]
    }
   ],
   "source": [
    "glossary = {\n",
    "    'dictionary' : 'collection of key-value pairs.',\n",
    "    'loop' : 'repeats code when true or for each item in a sequence.',\n",
    "    'list' : 'ordered collection of data.',\n",
    "    'data type' : 'integers, floats, strings, and booleans.',\n",
    "    'variable' : 'named storage that holds data values.',\n",
    "    'sets' : 'unordered collections of unique values.',\n",
    "    'comment' : 'line ignored by Python used to explain.',\n",
    "    'string' : 'sequence of characters to show text.',\n",
    "    'boolean' : 'true or false.',\n",
    "    'indent' : 'spaces at beginning of line that groups code together.'\n",
    "    }\n",
    "for word, definition in glossary.items():\n",
    "    print(f'{word.title()} - {definition}')"
   ]
  },
  {
   "cell_type": "code",
   "execution_count": 56,
   "id": "29fabf6e",
   "metadata": {},
   "outputs": [
    {
     "name": "stdout",
     "output_type": "stream",
     "text": [
      "Neymar is not top 4 in goals in Champion's League.\n",
      "\n",
      "\n",
      "Ronaldo : 140\n",
      "Messi : 129\n",
      "Lewandowski : 105\n",
      "Benzema : 90\n",
      "\n",
      "\n",
      "Ronaldo\n",
      "\tRonaldo has scored 140 goals in Champion's League.\n",
      "Messi\n",
      "\tMessi has scored 129 goals in Champion's League.\n",
      "Lewandowski\n",
      "\tLewandowski is not a top 2 scorer.\n",
      "Benzema\n",
      "\tBenzema is not a top 2 scorer.\n",
      "\n",
      "\n",
      "Benzema is in the top 4 Champion's League scorers.\n",
      "Lewandowski is in the top 4 Champion's League scorers.\n",
      "Messi is in the top 4 Champion's League scorers.\n",
      "Ronaldo is in the top 4 Champion's League scorers.\n",
      "\n",
      "\n",
      "The following are the number of goals of each top scorer:\n",
      "129\n",
      "90\n",
      "140\n",
      "105\n",
      "\n",
      "\n"
     ]
    }
   ],
   "source": [
    "most_goals = {\n",
    "    'ronaldo' : 140,\n",
    "    'messi' : 129,\n",
    "    'lewandowski' : 105,\n",
    "    'benzema' : 90\n",
    "    }\n",
    "if 'neymar' not in most_goals:\n",
    "    print(\"Neymar is not top 4 in goals in Champion's League.\")\n",
    "print('\\n')\n",
    "\n",
    "for name, goals in most_goals.items():\n",
    "    print(f'{name.title()} : {goals}')\n",
    "print('\\n')\n",
    "\n",
    "rivals = ['ronaldo', 'messi']\n",
    "for name in most_goals:\n",
    "    print(name.title())\n",
    "    if name in rivals:\n",
    "        goals = most_goals[name]\n",
    "        print(f\"\\t{name.title()} has scored {goals} goals in Champion's League.\")\n",
    "    else:\n",
    "        print(f'\\t{name.title()} is not a top 2 scorer.')\n",
    "print('\\n')\n",
    "\n",
    "for name in sorted(most_goals):\n",
    "    print(f\"{name.title()} is in the top 4 Champion's League scorers.\")\n",
    "print('\\n')\n",
    "\n",
    "print('The following are the number of goals of each top scorer:')\n",
    "for goals in set(most_goals.values()):\n",
    "    print(goals)\n",
    "print('\\n')\n",
    "\n"
   ]
  },
  {
   "cell_type": "code",
   "execution_count": 13,
   "id": "1584cba5",
   "metadata": {},
   "outputs": [
    {
     "name": "stdout",
     "output_type": "stream",
     "text": [
      "Robert\n",
      "Lewandowkski\n",
      "36\n",
      "Poland\n"
     ]
    }
   ],
   "source": [
    "player = {'first_name' : 'robert', 'last_name' : 'lewandowkski', 'age' : '36', 'country' : 'poland'}\n",
    "print(player['first_name'].title())\n",
    "print(player['last_name'].title())\n",
    "print(player['age'])\n",
    "print(player['country'].title())"
   ]
  },
  {
   "cell_type": "code",
   "execution_count": 5,
   "id": "5555864d",
   "metadata": {},
   "outputs": [
    {
     "name": "stdout",
     "output_type": "stream",
     "text": [
      "Dallas is located in Texas.\n"
     ]
    }
   ],
   "source": [
    "city_state = {\n",
    "    'houston' : 'texas',\n",
    "    'new york' : 'new york',\n",
    "    'dallas' : 'texas',\n",
    "    'chicago' : 'illinois'\n",
    "    }\n",
    "state = city_state['dallas'].title()\n",
    "print(f'Dallas is located in {state}.')"
   ]
  },
  {
   "cell_type": "code",
   "execution_count": 7,
   "id": "e081a583",
   "metadata": {},
   "outputs": [
    {
     "name": "stdout",
     "output_type": "stream",
     "text": [
      "The width of the rectangle is 10.\n",
      "The width of the rectangle is now 15.\n",
      "{'width': 15, 'length': 8}\n",
      "No depth assigned.\n"
     ]
    }
   ],
   "source": [
    "rectangle = {'width' : 10, 'length' : 8, 'depth' : 16}\n",
    "print(f'The width of the rectangle is {rectangle['width']}.')\n",
    "rectangle['width'] = 15\n",
    "print(f'The width of the rectangle is now {rectangle['width']}.')\n",
    "if rectangle['depth'] < 10:\n",
    "    difference = 10 - rectangle['depth']\n",
    "elif rectangle['depth'] > 10:\n",
    "    difference = rectangle['depth'] - 10\n",
    "elif rectangle['depth'] == 10:\n",
    "    print(f'The height of the rectangle is now 10.')\n",
    "del rectangle['depth']\n",
    "print(rectangle)\n",
    "depth = rectangle.get('depth', 'No depth assigned.')\n",
    "print(depth)"
   ]
  },
  {
   "cell_type": "code",
   "execution_count": null,
   "id": "21209fa8",
   "metadata": {},
   "outputs": [
    {
     "name": "stdout",
     "output_type": "stream",
     "text": [
      "{'capital': 'washington d.c.', 'continent': 'north america'}\n",
      "{'capital': 'washington d.c.', 'continent': 'north america', 'currency': 'usd', 'language': 'english'}\n"
     ]
    }
   ],
   "source": [
    "usa = {}\n",
    "usa['capital'] = 'washington d.c.'\n",
    "usa['continent'] = 'north america'\n",
    "print(usa)\n",
    "usa['currency'] = 'usd'\n",
    "usa['language'] = 'english' \n",
    "print(usa)"
   ]
  }
 ],
 "metadata": {
  "kernelspec": {
   "display_name": "Python 3",
   "language": "python",
   "name": "python3"
  },
  "language_info": {
   "codemirror_mode": {
    "name": "ipython",
    "version": 3
   },
   "file_extension": ".py",
   "mimetype": "text/x-python",
   "name": "python",
   "nbconvert_exporter": "python",
   "pygments_lexer": "ipython3",
   "version": "3.13.1"
  }
 },
 "nbformat": 4,
 "nbformat_minor": 5
}
