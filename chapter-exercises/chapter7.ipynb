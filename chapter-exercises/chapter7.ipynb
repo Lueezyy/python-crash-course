{
 "cells": [
  {
   "cell_type": "code",
   "execution_count": 17,
   "id": "77b95659",
   "metadata": {},
   "outputs": [
    {
     "name": "stdout",
     "output_type": "stream",
     "text": [
      "Poll results:\n",
      "Luis would like to visit England someday.\n",
      "Luus would like to visit Spain someday.\n",
      "Luud would like to visit Iceland someday.\n"
     ]
    }
   ],
   "source": [
    "poll = {}\n",
    "active = True\n",
    "while active:\n",
    "    name = input('Enter your name: ')\n",
    "    response = input('If you could visit any country, which country would it be? ')\n",
    "    poll[name] = response\n",
    "    repeat = input('Would you like to add another sample? (y/n)')\n",
    "    if repeat.lower() == 'n':\n",
    "        active = False\n",
    "print('Poll results:')\n",
    "for name, response in poll.items():\n",
    "    print(f'{name.title()} would like to visit {response.title()} someday.') "
   ]
  },
  {
   "cell_type": "code",
   "execution_count": 14,
   "id": "7756f78a",
   "metadata": {},
   "outputs": [
    {
     "name": "stdout",
     "output_type": "stream",
     "text": [
      "Ew sorry, no pineapple.\n",
      "\n",
      "Preparing the pepperoni pizza...\n",
      "Prepared the pepperoni pizza.\n",
      "\n",
      "Preparing the extra cheese pizza...\n",
      "Prepared the extra cheese pizza.\n",
      "\n",
      "Preparing the pepperoni and ham pizza...\n",
      "Prepared the pepperoni and ham pizza.\n",
      "\n",
      "Preparing the sausage pizza...\n",
      "Prepared the sausage pizza.\n",
      "\n",
      "All pizzas have been prepared.\n"
     ]
    }
   ],
   "source": [
    "orders = ['pepperoni', 'extra cheese', 'pineapple', 'pineapple', 'pepperoni and ham', 'sausage', 'pineapple']\n",
    "orders.reverse()\n",
    "finished_orders = []\n",
    "\n",
    "if 'pineapple' in orders:\n",
    "    print('Ew sorry, no pineapple.')\n",
    "    while 'pineapple' in orders:\n",
    "        orders.remove('pineapple')\n",
    "\n",
    "while orders:\n",
    "    current = orders.pop()\n",
    "    print(f'\\nPreparing the {current} pizza...')\n",
    "    finished_orders.append(current)\n",
    "    print(f'Prepared the {current} pizza.')\n",
    "\n",
    "print('\\nAll pizzas have been prepared.')"
   ]
  },
  {
   "cell_type": "code",
   "execution_count": 1,
   "id": "d86b1315",
   "metadata": {},
   "outputs": [
    {
     "name": "stdout",
     "output_type": "stream",
     "text": [
      "Participant Data:\n",
      "Luis is 19 years of age.\n",
      "Ellie is 19 years of age.\n",
      "Ozarka is 120 years of age.\n"
     ]
    }
   ],
   "source": [
    "responses = {}\n",
    "active = True\n",
    "while active:\n",
    "    name = input('Enter name: ')\n",
    "    age = input('Enter age: ')\n",
    "    responses[name] = age\n",
    "    repeat = input('Add another participant? (y/n)')\n",
    "    if repeat.lower() == 'n':\n",
    "        active = False\n",
    "print('Participant Data:')\n",
    "for name, age in responses.items():\n",
    "    print(f'{name.title()} is {age} years of age.')"
   ]
  },
  {
   "cell_type": "code",
   "execution_count": 57,
   "id": "5efa5106",
   "metadata": {},
   "outputs": [
    {
     "name": "stdout",
     "output_type": "stream",
     "text": [
      "['dog', 'cat', 'dog', 'fish', 'parrot', 'cat']\n",
      "['dog', 'dog', 'fish', 'parrot']\n"
     ]
    }
   ],
   "source": [
    "pets = ['dog', 'cat', 'dog', 'fish', 'parrot', 'cat']\n",
    "print(pets)\n",
    "while 'cat' in pets:\n",
    "    pets.remove('cat')\n",
    "print(pets)"
   ]
  },
  {
   "cell_type": "code",
   "execution_count": 55,
   "id": "262d9988",
   "metadata": {},
   "outputs": [
    {
     "name": "stdout",
     "output_type": "stream",
     "text": [
      "Checking if 0 is even...\n",
      "Checking if 1 is even...\n",
      "Checking if 4 is even...\n",
      "Checking if 5 is even...\n",
      "Checking if 231 is even...\n",
      "Checking if 340 is even...\n",
      "Checking if 430 is even...\n",
      "Checking if 546 is even...\n",
      "Checking if 99001 is even...\n",
      "\n",
      "The following numbers are even:\n",
      "4\n",
      "340\n",
      "430\n",
      "546\n"
     ]
    }
   ],
   "source": [
    "nums = [0, 1, 4, 5, 340, 430, 99001, 546, 231]\n",
    "nums = sorted(nums, reverse=True)\n",
    "even_nums = []\n",
    "while nums:\n",
    "    current_num = nums.pop()\n",
    "    print(f'Checking if {current_num} is even...')\n",
    "    if current_num % 2 == 0 and current_num != 0:\n",
    "        even_nums.append(current_num)\n",
    "print('\\nThe following numbers are even:')\n",
    "for num in even_nums:\n",
    "    print(num)"
   ]
  },
  {
   "cell_type": "code",
   "execution_count": 45,
   "id": "52fc399d",
   "metadata": {},
   "outputs": [
    {
     "name": "stdout",
     "output_type": "stream",
     "text": [
      "For a score of 760, you qualify for a 5% interest rate.\n",
      "For a score of 400, you qualify for a 30% interest rate.\n",
      "For a score of 540, you qualify for a 30% interest rate.\n",
      "For a score of 650, you qualify for a 18% interest rate.\n"
     ]
    }
   ],
   "source": [
    "prompt = 'Enter a credit score to check the interest rate or press Q to quit. '\n",
    "\n",
    "while True:\n",
    "    score = input(prompt)\n",
    "    if score.lower() == 'q':\n",
    "        break\n",
    "    score = int(score)\n",
    "    if score < 300 or score > 850:\n",
    "        print('Invalid score.')\n",
    "    elif score < 580:\n",
    "        print(f'For a score of {score}, you qualify for a 30% interest rate.')\n",
    "    elif score < 670:\n",
    "        print(f'For a score of {score}, you qualify for a 18% interest rate.')\n",
    "    elif score < 740:\n",
    "        print(f'For a score of {score}, you qualify for a 10% interest rate.')\n",
    "    else:\n",
    "        print(f'For a score of {score}, you qualify for a 5% interest rate.')"
   ]
  },
  {
   "cell_type": "code",
   "execution_count": 46,
   "id": "d385448e",
   "metadata": {},
   "outputs": [
    {
     "name": "stdout",
     "output_type": "stream",
     "text": [
      "Adding lettuce to your sandwich...\n",
      "Adding tomatoes to your sandwich...\n",
      "Adding bacon to your sandwich...\n",
      "Sandwich is complete.\n"
     ]
    }
   ],
   "source": [
    "prompt = 'What would you like to add to your sandwich? (press Q to complete) '\n",
    "active = True\n",
    "while active:\n",
    "    add = input(prompt)\n",
    "    if add.lower() == 'q':\n",
    "        active = False\n",
    "    else:\n",
    "        print(f'Adding {add} to your sandwich...')\n",
    "print('Sandwich is complete.')"
   ]
  },
  {
   "cell_type": "code",
   "execution_count": 48,
   "id": "c3b26227",
   "metadata": {},
   "outputs": [
    {
     "name": "stdout",
     "output_type": "stream",
     "text": [
      "1\n",
      "3\n",
      "5\n",
      "7\n",
      "9\n"
     ]
    }
   ],
   "source": [
    "n = 0\n",
    "while n < 10:\n",
    "    n += 1\n",
    "    if n % 2 == 0:\n",
    "        continue\n",
    "    print(n)"
   ]
  },
  {
   "cell_type": "code",
   "execution_count": 36,
   "id": "379c71cc",
   "metadata": {},
   "outputs": [
    {
     "name": "stdout",
     "output_type": "stream",
     "text": [
      "Austin, excellent choice.\n",
      "Dallas, excellent choice.\n"
     ]
    }
   ],
   "source": [
    "prompt = 'Enter a city (Press Q to quit): '\n",
    "while True:\n",
    "    answer = input(prompt)\n",
    "    if answer.lower() == 'q':\n",
    "        break\n",
    "    else:\n",
    "        print(f'{answer.title()}, excellent choice.')"
   ]
  },
  {
   "cell_type": "code",
   "execution_count": 37,
   "id": "43fadf7b",
   "metadata": {},
   "outputs": [
    {
     "name": "stdout",
     "output_type": "stream",
     "text": [
      "0\n",
      "1\n",
      "2\n",
      "3\n",
      "4\n",
      "5\n"
     ]
    }
   ],
   "source": [
    "num = 0\n",
    "while num <= 5:\n",
    "    print(num)\n",
    "    num += 1"
   ]
  },
  {
   "cell_type": "code",
   "execution_count": 26,
   "id": "29a22fbd",
   "metadata": {},
   "outputs": [
    {
     "name": "stdout",
     "output_type": "stream",
     "text": [
      "The number 24 is divisible by at least one number from 2-12, specifically [2, 3, 4, 6, 8, 12].\n"
     ]
    }
   ],
   "source": [
    "prompt = 'Enter a number to check if divisible by any numbers from 2-12: '\n",
    "num = input(prompt)\n",
    "num = int(num)\n",
    "divisible = False\n",
    "ans = []\n",
    "for x in range(2, 13):\n",
    "    if num % x == 0:\n",
    "        divisible = True\n",
    "        ans.append(x)\n",
    "if divisible:\n",
    "    print(f'The number {num} is divisible by at least one number from 2-12, specifically {ans}.')\n",
    "else:\n",
    "    print(f'The number {num} is not divisible by any number from 2-12.')"
   ]
  },
  {
   "cell_type": "code",
   "execution_count": 18,
   "id": "ce1b5d9b",
   "metadata": {},
   "outputs": [
    {
     "name": "stdout",
     "output_type": "stream",
     "text": [
      "You have too many players.\n"
     ]
    }
   ],
   "source": [
    "prompt = 'How many players in your team? '\n",
    "team = input(prompt)\n",
    "team = int(team)\n",
    "if team == 11:\n",
    "    print('You have enough players.')\n",
    "elif team > 11:\n",
    "    print('You have too many players.')\n",
    "else:\n",
    "    print('Find more players for your team.')"
   ]
  },
  {
   "cell_type": "code",
   "execution_count": 17,
   "id": "240c12a8",
   "metadata": {},
   "outputs": [
    {
     "name": "stdout",
     "output_type": "stream",
     "text": [
      "Loading search results for Toyota...\n"
     ]
    }
   ],
   "source": [
    "prompt = 'What car brand would you like to search for: '\n",
    "brand = input(prompt)\n",
    "print(f'Loading search results for {brand.title()}...')"
   ]
  },
  {
   "cell_type": "code",
   "execution_count": 15,
   "id": "0973adb8",
   "metadata": {},
   "outputs": [
    {
     "name": "stdout",
     "output_type": "stream",
     "text": [
      "The number 13 is odd.\n"
     ]
    }
   ],
   "source": [
    "num = input('Enter a number to see if it is even or odd: ')\n",
    "num = int(num)\n",
    "if num == 0:\n",
    "    print('The number 0 is neither even or odd.')\n",
    "elif num % 2 == 0:\n",
    "    print(f'The number {num} is even.')\n",
    "else:\n",
    "    print(f'The number {num} is odd.')"
   ]
  },
  {
   "cell_type": "code",
   "execution_count": 9,
   "id": "603148e9",
   "metadata": {},
   "outputs": [
    {
     "name": "stdout",
     "output_type": "stream",
     "text": [
      "\n",
      "You are an adult.\n"
     ]
    }
   ],
   "source": [
    "age = input('How old are you? ')\n",
    "age = int(age)\n",
    "if age >= 18:\n",
    "    print('\\nYou are an adult.')\n",
    "else:\n",
    "    print('\\nYou are not an adult.')"
   ]
  },
  {
   "cell_type": "code",
   "execution_count": 5,
   "id": "fb474fa5",
   "metadata": {},
   "outputs": [
    {
     "name": "stdout",
     "output_type": "stream",
     "text": [
      "Hello luis.\n"
     ]
    }
   ],
   "source": [
    "prompt =  'Share your name in order to personalize the experience.'\n",
    "prompt += '\\nEnter name: '\n",
    "name = input(prompt)\n",
    "print(f'Hello {name}.')"
   ]
  },
  {
   "cell_type": "code",
   "execution_count": 33,
   "id": "0f5ac18e",
   "metadata": {},
   "outputs": [
    {
     "name": "stdout",
     "output_type": "stream",
     "text": [
      "23\n",
      "53\n"
     ]
    }
   ],
   "source": [
    "prompt = 'Testing...'\n",
    "prompt += \"Enter 'Q' to quit.\"\n",
    "active = True\n",
    "while active:\n",
    "    test = input(prompt)\n",
    "    if test.lower() == 'q':\n",
    "        active = False\n",
    "    else:\n",
    "        print(test)"
   ]
  }
 ],
 "metadata": {
  "kernelspec": {
   "display_name": "Python 3",
   "language": "python",
   "name": "python3"
  },
  "language_info": {
   "codemirror_mode": {
    "name": "ipython",
    "version": 3
   },
   "file_extension": ".py",
   "mimetype": "text/x-python",
   "name": "python",
   "nbconvert_exporter": "python",
   "pygments_lexer": "ipython3",
   "version": "3.13.1"
  }
 },
 "nbformat": 4,
 "nbformat_minor": 5
}
