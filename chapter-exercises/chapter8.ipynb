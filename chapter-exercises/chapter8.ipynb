{
 "cells": [
  {
   "cell_type": "code",
   "execution_count": 33,
   "id": "7f9be71e",
   "metadata": {},
   "outputs": [
    {
     "name": "stdout",
     "output_type": "stream",
     "text": [
      "Reykjavik is located in Iceland.\n",
      "Colchester is located in the United Kingdom.\n",
      "Houston is located in the United States.\n",
      "New York City is located in the United States.\n"
     ]
    }
   ],
   "source": [
    "def locate_city(city, country = 'united states'):\n",
    "    if country.lower() in ('united states', 'united kingdom', 'netherlands'):\n",
    "        print(f'{city.title()} is located in the {country.title()}.')\n",
    "    else:\n",
    "        print(f'{city.title()} is located in {country.title()}.')\n",
    "\n",
    "locate_city('reykjavik', 'iceland')\n",
    "locate_city('colchester', 'united kingdom')\n",
    "locate_city('houston')\n",
    "locate_city('new york city')"
   ]
  },
  {
   "cell_type": "code",
   "execution_count": null,
   "id": "9b5389b4",
   "metadata": {},
   "outputs": [
    {
     "name": "stdout",
     "output_type": "stream",
     "text": [
      "I will buy a Tesla Model Y.\n",
      "I will buy a Lamborghini Aventador.\n",
      "I will buy a Toyota Camry.\n",
      "I will buy a Toyota Tundra.\n",
      "I will buy a Toyota Corolla.\n"
     ]
    }
   ],
   "source": [
    "def buy_car(model = 'corolla', make = 'toyota'):\n",
    "    print(f'I will buy a {make.title()} {model.title()}.')\n",
    "\n",
    "buy_car('model y', 'tesla')\n",
    "buy_car(model = 'aventador', make = 'lamborghini')\n",
    "buy_car('camry')\n",
    "buy_car('tundra') \n",
    "buy_car()"
   ]
  },
  {
   "cell_type": "code",
   "execution_count": 21,
   "id": "0b1f12f9",
   "metadata": {},
   "outputs": [
    {
     "name": "stdout",
     "output_type": "stream",
     "text": [
      "\n",
      "Want to where alligators live?\n",
      "Alligators live in Florida.\n",
      "\n",
      "Want to where pandas live?\n",
      "Pandas live in China.\n",
      "\n",
      "Want to where takins live?\n",
      "Takins live in China.\n",
      "\n",
      "Want to where buffalo live?\n",
      "Buffalo live in United States.\n"
     ]
    }
   ],
   "source": [
    "def describe(animals, location = 'china'):\n",
    "    '''Display information about where an animal is located'''\n",
    "    print(f'\\nWant to where {animals} live?')\n",
    "    print(f'{animals.title()} live in {location.title()}.')\n",
    "\n",
    "describe(location = 'florida', animals = 'alligators')\n",
    "describe(animals = 'pandas')\n",
    "describe('takins')\n",
    "describe('buffalo', 'united states')"
   ]
  },
  {
   "cell_type": "code",
   "execution_count": 9,
   "id": "611a5823",
   "metadata": {},
   "outputs": [
    {
     "name": "stdout",
     "output_type": "stream",
     "text": [
      "Sup bro\n"
     ]
    }
   ],
   "source": [
    "def hey():\n",
    "    print('Sup bro')\n",
    "hey()"
   ]
  },
  {
   "cell_type": "code",
   "execution_count": 8,
   "id": "24566416",
   "metadata": {},
   "outputs": [
    {
     "name": "stdout",
     "output_type": "stream",
     "text": [
      "I will boink Luis on the head.\n"
     ]
    }
   ],
   "source": [
    "def boink(name):\n",
    "    print(f'I will boink {name.title()} on the head.')\n",
    "boink('luis')"
   ]
  },
  {
   "cell_type": "code",
   "execution_count": 3,
   "id": "4346e23a",
   "metadata": {},
   "outputs": [
    {
     "name": "stdout",
     "output_type": "stream",
     "text": [
      "Hey Luis\n"
     ]
    }
   ],
   "source": [
    "def greet(name):\n",
    "    '''Display a greeting'''\n",
    "    print(f'Hey {name.title()}')\n",
    "greet('luis')"
   ]
  }
 ],
 "metadata": {
  "kernelspec": {
   "display_name": "Python 3",
   "language": "python",
   "name": "python3"
  },
  "language_info": {
   "codemirror_mode": {
    "name": "ipython",
    "version": 3
   },
   "file_extension": ".py",
   "mimetype": "text/x-python",
   "name": "python",
   "nbconvert_exporter": "python",
   "pygments_lexer": "ipython3",
   "version": "3.13.1"
  }
 },
 "nbformat": 4,
 "nbformat_minor": 5
}
