{
 "cells": [
  {
   "cell_type": "code",
   "execution_count": 13,
   "id": "7578024e",
   "metadata": {},
   "outputs": [
    {
     "name": "stdout",
     "output_type": "stream",
     "text": [
      "My favorite number is 17.\n"
     ]
    }
   ],
   "source": [
    "#Set my favorite number to 17\n",
    "fav_num = 17\n",
    "print(f'My favorite number is {fav_num}.')"
   ]
  },
  {
   "cell_type": "code",
   "execution_count": 12,
   "id": "d8c8377e",
   "metadata": {},
   "outputs": [
    {
     "name": "stdout",
     "output_type": "stream",
     "text": [
      "8\n",
      "8\n",
      "8.0\n",
      "8\n",
      "8\n"
     ]
    }
   ],
   "source": [
    "print(4+4)\n",
    "print(16-8)\n",
    "print(16/2)\n",
    "print(2*4)\n",
    "print(2**3)"
   ]
  },
  {
   "cell_type": "code",
   "execution_count": 11,
   "id": "339406d7",
   "metadata": {},
   "outputs": [
    {
     "name": "stdout",
     "output_type": "stream",
     "text": [
      "classified_files\n"
     ]
    }
   ],
   "source": [
    "file = 'classified_files.txt'\n",
    "#Removed .txt from the file name\n",
    "search_file = file.removesuffix('.txt')\n",
    "print(search_file)"
   ]
  },
  {
   "cell_type": "code",
   "execution_count": 14,
   "id": "4d381fff",
   "metadata": {},
   "outputs": [
    {
     "name": "stdout",
     "output_type": "stream",
     "text": [
      "Franklin D. Roosevelt once said, \"The only thing we have to fear is fear itself\".\n"
     ]
    }
   ],
   "source": [
    "person = 'franklin d. roosevelt'\n",
    "quote = 'The only thing we have to fear is fear itself'\n",
    "message = f'{person.title()} once said, \"{quote}\".'\n",
    "print(message)"
   ]
  },
  {
   "cell_type": "code",
   "execution_count": 6,
   "id": "3f12d791",
   "metadata": {},
   "outputs": [
    {
     "name": "stdout",
     "output_type": "stream",
     "text": [
      "Hello Luis Balbuena, want to learn some programming?\n"
     ]
    }
   ],
   "source": [
    "full_name = 'luis balbuena'\n",
    "message = f'Hello {full_name.title()}, want to learn some programming?'\n",
    "print(message)"
   ]
  },
  {
   "cell_type": "code",
   "execution_count": 4,
   "id": "d8f47a0e",
   "metadata": {},
   "outputs": [
    {
     "name": "stdout",
     "output_type": "stream",
     "text": [
      "Hello Luis Balbuena.\n"
     ]
    }
   ],
   "source": [
    "first_name = 'luis'\n",
    "last_name = 'balbuena'\n",
    "full_name = f'{first_name} {last_name}'\n",
    "message = f'Hello {full_name.title()}.'\n",
    "print(message)"
   ]
  },
  {
   "cell_type": "code",
   "execution_count": 2,
   "id": "5dc90a0d",
   "metadata": {},
   "outputs": [
    {
     "name": "stdout",
     "output_type": "stream",
     "text": [
      "Luis Balbuena\n",
      "LUIS BALBUENA\n",
      "luis balbuena\n"
     ]
    }
   ],
   "source": [
    "name = 'luis balbuena'\n",
    "print(name.title())\n",
    "print(name.upper())\n",
    "print(name.lower())"
   ]
  },
  {
   "cell_type": "code",
   "execution_count": 1,
   "id": "9605f164",
   "metadata": {},
   "outputs": [
    {
     "name": "stdout",
     "output_type": "stream",
     "text": [
      "original\n",
      "new\n"
     ]
    }
   ],
   "source": [
    "message = 'original'\n",
    "print(message)\n",
    "message  = 'new'\n",
    "print(message)"
   ]
  }
 ],
 "metadata": {
  "kernelspec": {
   "display_name": "Python 3",
   "language": "python",
   "name": "python3"
  },
  "language_info": {
   "codemirror_mode": {
    "name": "ipython",
    "version": 3
   },
   "file_extension": ".py",
   "mimetype": "text/x-python",
   "name": "python",
   "nbconvert_exporter": "python",
   "pygments_lexer": "ipython3",
   "version": "3.13.1"
  }
 },
 "nbformat": 4,
 "nbformat_minor": 5
}
