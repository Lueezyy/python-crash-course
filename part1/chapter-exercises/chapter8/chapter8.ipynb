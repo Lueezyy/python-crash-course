{
 "cells": [
  {
   "cell_type": "code",
   "execution_count": 35,
   "id": "d23c2e1c",
   "metadata": {},
   "outputs": [
    {
     "name": "stdout",
     "output_type": "stream",
     "text": [
      "{'color': 'gray', 'new': False, 'brand': 'Toyota', 'model': 'Corolla'}\n"
     ]
    }
   ],
   "source": [
    "def make_car(brand, model, **info):\n",
    "    info['brand'] = brand.title()\n",
    "    info['model'] = model.title()\n",
    "    return info\n",
    "\n",
    "car0 = make_car('toyota', 'corolla', color = 'gray', new = False)\n",
    "print(car0)"
   ]
  },
  {
   "cell_type": "code",
   "execution_count": 34,
   "id": "4c824a54",
   "metadata": {},
   "outputs": [
    {
     "name": "stdout",
     "output_type": "stream",
     "text": [
      "{'weight': 185, 'major': 'mathematics', 'first name': 'Luis', 'last name': 'Balbuena', 'age': 19}\n"
     ]
    }
   ],
   "source": [
    "def profile(first, last, age, **random_info):\n",
    "    random_info['first name'] = first.title()\n",
    "    random_info['last name'] = last.title()\n",
    "    random_info['age'] = age\n",
    "    return random_info\n",
    "\n",
    "me = profile('luis', 'balbuena', 19, weight = 185, major = 'mathematics')\n",
    "print(me)"
   ]
  },
  {
   "cell_type": "code",
   "execution_count": 30,
   "id": "6747dd70",
   "metadata": {},
   "outputs": [
    {
     "name": "stdout",
     "output_type": "stream",
     "text": [
      "\n",
      "Building your sandwich...\n",
      "Adding lettuce...\n",
      "Adding onion...\n",
      "Adding tomatoes...\n",
      "Sandwich is complete.\n",
      "\n",
      "Building your sandwich...\n",
      "Adding ham...\n",
      "Adding cheese...\n",
      "Sandwich is complete.\n",
      "\n",
      "Building your sandwich...\n",
      "Adding nutella...\n",
      "Sandwich is complete.\n"
     ]
    }
   ],
   "source": [
    "def sandwich(*fillings):\n",
    "    print('\\nBuilding your sandwich...')\n",
    "    for filling in fillings:\n",
    "        print(f'Adding {filling}...')\n",
    "    print('Sandwich is complete.')\n",
    "\n",
    "sandwich('lettuce', 'onion', 'tomatoes')\n",
    "sandwich('ham', 'cheese')\n",
    "sandwich('nutella')"
   ]
  },
  {
   "cell_type": "code",
   "execution_count": 21,
   "id": "a3a2f7e6",
   "metadata": {},
   "outputs": [
    {
     "name": "stdout",
     "output_type": "stream",
     "text": [
      "{'capital': 'rome', 'sqmileage': 116350, 'country': 'Italy', 'continent': 'Europe'}\n"
     ]
    }
   ],
   "source": [
    "def country_facts(country, continent, **country_info):\n",
    "    country_info['country'] = country.title()\n",
    "    country_info['continent'] = continent.title()\n",
    "    return country_info\n",
    "\n",
    "italy = country_facts('italy', 'europe', capital = 'rome', sqmileage = 116350)\n",
    "print(italy)"
   ]
  },
  {
   "cell_type": "code",
   "execution_count": 20,
   "id": "defc1b4b",
   "metadata": {},
   "outputs": [
    {
     "name": "stdout",
     "output_type": "stream",
     "text": [
      "Making an order with...\n",
      "- L Burger\n",
      "Making an order with...\n",
      "- M Burger\n",
      "- M Fries\n",
      "- M Soda\n"
     ]
    }
   ],
   "source": [
    "def make_meal(size, *items):\n",
    "    print('Making an order with...')\n",
    "    for item in items:\n",
    "        print(f'- {size.upper()} {item.title()}')\n",
    "\n",
    "make_meal('l', 'burger')\n",
    "make_meal('m', 'burger', 'fries', 'soda')"
   ]
  },
  {
   "cell_type": "code",
   "execution_count": 12,
   "id": "71fcc4a7",
   "metadata": {},
   "outputs": [
    {
     "name": "stdout",
     "output_type": "stream",
     "text": [
      "hello\n",
      "hi\n",
      "hey\n",
      "['hello', 'hi', 'hey']\n",
      "['hello', 'hi', 'hey']\n"
     ]
    }
   ],
   "source": [
    "def send_messages(messages, sent_messages):\n",
    "    messages.reverse()\n",
    "    while messages:\n",
    "        current = messages.pop()\n",
    "        print(current)\n",
    "        sent_messages.append(current)\n",
    "\n",
    "messages = ['hello', 'hi', 'hey']\n",
    "sent_messages = []\n",
    "send_messages(messages[:], sent_messages)\n",
    "print(messages)\n",
    "print(sent_messages)"
   ]
  },
  {
   "cell_type": "code",
   "execution_count": 7,
   "id": "65dc6c9c",
   "metadata": {},
   "outputs": [
    {
     "name": "stdout",
     "output_type": "stream",
     "text": [
      "Printing dodecahedron model...\n",
      "Printing pyramid model...\n",
      "Printing cube model...\n",
      "The following models have been printed:\n",
      "Dodecahedron\n",
      "Pyramid\n",
      "Cube\n"
     ]
    }
   ],
   "source": [
    "def print_models(incomplete, complete):\n",
    "    while incomplete:\n",
    "        current = incomplete.pop()\n",
    "        print(f'Printing {current} model...')\n",
    "        complete.append(current)\n",
    "\n",
    "def show_completed(complete):\n",
    "    print('The following models have been printed:')\n",
    "    for each in complete:\n",
    "        print(each.title())\n",
    "\n",
    "incomplete = ['cube', 'pyramid', 'dodecahedron']\n",
    "complete = []\n",
    "\n",
    "print_models(incomplete[:], complete)\n",
    "show_completed(complete)"
   ]
  },
  {
   "cell_type": "code",
   "execution_count": 5,
   "id": "014ec769",
   "metadata": {},
   "outputs": [
    {
     "name": "stdout",
     "output_type": "stream",
     "text": [
      "Sup Luis.\n",
      "Sup Litgamer.\n",
      "Sup Siul.\n"
     ]
    }
   ],
   "source": [
    "def sup(names):\n",
    "    '''Say sup to each person'''\n",
    "    for name in names:\n",
    "        msg = f'Sup {name.title()}.'\n",
    "        print(msg)\n",
    "\n",
    "names = ['luis', 'litgamer', 'siul']\n",
    "sup(names)"
   ]
  },
  {
   "cell_type": "code",
   "execution_count": null,
   "id": "fc41df9e",
   "metadata": {},
   "outputs": [
    {
     "name": "stdout",
     "output_type": "stream",
     "text": [
      "{'Name': 'Antonio Vivaldi', 'Musical Set': 'The Four Seasons', 'Movements': 12}\n",
      "{'Name': 'Johann Sebastian Bach', 'Musical Set': 'The Brandenburg Concertos', 'Movements': 19}\n",
      "{'Name': 'Johann Sebastian Bach', 'Musical Set': 'The Well-Tempered Clavier'}\n",
      "{'Name': 'Pyotr Ilyich Tchaikovsky', 'Musical Set': 'Swan Lake'}\n"
     ]
    }
   ],
   "source": [
    "def class_set(name, title, movements=None):\n",
    "    if movements:\n",
    "        class_set = {'Name': name.title(), 'Musical Set' : title.title(), 'Movements' : movements}\n",
    "    else:\n",
    "        class_set = {'Name': name.title(), 'Musical Set' : title.title()}\n",
    "    return class_set\n",
    "\n",
    "print(class_set('antonio vivaldi', 'the four seasons', 12))\n",
    "print(class_set('johann sebastian bach', 'the brandenburg concertos', 19))\n",
    "print(class_set('johann sebastian bach', 'the well-tempered clavier'))\n",
    "\n",
    "while True:\n",
    "    choice = input('Add a musical set? (y/n)').strip().lower()\n",
    "    if choice == 'n':\n",
    "        break\n",
    "    name = input('Who is the composer?')\n",
    "    title = input('What is the name of the set?')\n",
    "    print(class_set(name, title))"
   ]
  },
  {
   "cell_type": "code",
   "execution_count": 16,
   "id": "99cb11ed",
   "metadata": {},
   "outputs": [
    {
     "name": "stdout",
     "output_type": "stream",
     "text": [
      "Tokyo, Japan\n",
      "Beijing, China\n",
      "New York City, United States\n"
     ]
    }
   ],
   "source": [
    "def pair(city, country):\n",
    "    pair = f'{city}, {country}'\n",
    "    print(pair.title())\n",
    "\n",
    "pair('tokyo', 'japan')\n",
    "pair('beijing', 'china')\n",
    "pair('new york city', 'united states')"
   ]
  },
  {
   "cell_type": "code",
   "execution_count": 10,
   "id": "bb504b7c",
   "metadata": {},
   "outputs": [
    {
     "name": "stdout",
     "output_type": "stream",
     "text": [
      "What is your name?\n",
      "Press Q to quit.\n",
      "Sup Luis Balbuena.\n",
      "What is your name?\n",
      "Press Q to quit.\n",
      "Sup Brother Brobro.\n",
      "What is your name?\n",
      "Press Q to quit.\n"
     ]
    }
   ],
   "source": [
    "def format_name(first, last, middle = ''):\n",
    "    if middle:\n",
    "        full = f'{first} {middle} {last}'\n",
    "    else:\n",
    "        full = f'{first} {last}'\n",
    "    return full.title()\n",
    "\n",
    "while True:\n",
    "    print('What is your name?')\n",
    "    print('Press Q to quit.')\n",
    "    first = input('First name: ')\n",
    "    if first == 'q':\n",
    "        break\n",
    "    last = input('Last name: ')\n",
    "    if last == 'q':\n",
    "        break\n",
    "\n",
    "    fullname = format_name(first, last)\n",
    "    print(f'Sup {fullname}.')"
   ]
  },
  {
   "cell_type": "code",
   "execution_count": 9,
   "id": "21de3a54",
   "metadata": {},
   "outputs": [
    {
     "name": "stdout",
     "output_type": "stream",
     "text": [
      "Luis Balbuena\n",
      "Luis Adrian Balbuena\n",
      "{'first': 'luis', 'last': 'balbuena', 'age': 19}\n"
     ]
    }
   ],
   "source": [
    "def format_name(first, last, middle = ''):\n",
    "    '''Return a formatted full name'''\n",
    "    if middle:\n",
    "        full = f'{first} {middle} {last}'\n",
    "    else:\n",
    "        full = f'{first} {last}'\n",
    "    return full.title()\n",
    "\n",
    "def profile(first, last, age = None):\n",
    "    '''Return a dictionary'''\n",
    "    person = {'first': first, 'last': last}\n",
    "    if age:\n",
    "        person['age'] = age\n",
    "    return person\n",
    "\n",
    "me = format_name('luis', 'balbuena')\n",
    "print(me)\n",
    "me = format_name('luis', 'balbuena', 'adrian')\n",
    "print(me)\n",
    "me = profile('luis', 'balbuena', 19)\n",
    "print(me)"
   ]
  },
  {
   "cell_type": "code",
   "execution_count": 33,
   "id": "7f9be71e",
   "metadata": {},
   "outputs": [
    {
     "name": "stdout",
     "output_type": "stream",
     "text": [
      "Reykjavik is located in Iceland.\n",
      "Colchester is located in the United Kingdom.\n",
      "Houston is located in the United States.\n",
      "New York City is located in the United States.\n"
     ]
    }
   ],
   "source": [
    "def locate_city(city, country = 'united states'):\n",
    "    if country.lower() in ('united states', 'united kingdom', 'netherlands'):\n",
    "        print(f'{city.title()} is located in the {country.title()}.')\n",
    "    else:\n",
    "        print(f'{city.title()} is located in {country.title()}.')\n",
    "\n",
    "locate_city('reykjavik', 'iceland')\n",
    "locate_city('colchester', 'united kingdom')\n",
    "locate_city('houston')\n",
    "locate_city('new york city')"
   ]
  },
  {
   "cell_type": "code",
   "execution_count": 1,
   "id": "9b5389b4",
   "metadata": {},
   "outputs": [
    {
     "name": "stdout",
     "output_type": "stream",
     "text": [
      "I will buy a Tesla Model Y.\n",
      "I will buy a Lamborghini Aventador.\n",
      "I will buy a Toyota Camry.\n",
      "I will buy a Toyota Tundra.\n",
      "I will buy a Toyota Corolla.\n"
     ]
    }
   ],
   "source": [
    "def buy_car(model='corolla', make='toyota'):\n",
    "    '''Display information about a car I'll buy'''\n",
    "    print(f'I will buy a {make.title()} {model.title()}.')\n",
    "\n",
    "buy_car('model y', 'tesla')\n",
    "buy_car(model='aventador', make = 'lamborghini')\n",
    "buy_car('camry')\n",
    "buy_car('tundra') \n",
    "buy_car()"
   ]
  },
  {
   "cell_type": "code",
   "execution_count": null,
   "id": "0b1f12f9",
   "metadata": {},
   "outputs": [
    {
     "name": "stdout",
     "output_type": "stream",
     "text": [
      "\n",
      "Want to where alligators live?\n",
      "Alligators live in Florida.\n",
      "\n",
      "Want to where pandas live?\n",
      "Pandas live in China.\n",
      "\n",
      "Want to where takins live?\n",
      "Takins live in China.\n",
      "\n",
      "Want to where buffalo live?\n",
      "Buffalo live in United States.\n"
     ]
    }
   ],
   "source": [
    "def describe(animals, location='china'):\n",
    "    '''Display information about where an animal is located'''\n",
    "    print(f'\\nWant to where {animals} live?')\n",
    "    print(f'{animals.title()} live in {location.title()}.')\n",
    "\n",
    "describe(location='florida', animals='alligators')\n",
    "describe(animals='pandas')\n",
    "describe('takins')\n",
    "describe('buffalo', 'united states')"
   ]
  },
  {
   "cell_type": "code",
   "execution_count": 9,
   "id": "611a5823",
   "metadata": {},
   "outputs": [
    {
     "name": "stdout",
     "output_type": "stream",
     "text": [
      "Sup bro\n"
     ]
    }
   ],
   "source": [
    "def hey():\n",
    "    print('Sup bro')\n",
    "hey()"
   ]
  },
  {
   "cell_type": "code",
   "execution_count": 8,
   "id": "24566416",
   "metadata": {},
   "outputs": [
    {
     "name": "stdout",
     "output_type": "stream",
     "text": [
      "I will boink Luis on the head.\n"
     ]
    }
   ],
   "source": [
    "def boink(name):\n",
    "    print(f'I will boink {name.title()} on the head.')\n",
    "boink('luis')"
   ]
  },
  {
   "cell_type": "code",
   "execution_count": 3,
   "id": "4346e23a",
   "metadata": {},
   "outputs": [
    {
     "name": "stdout",
     "output_type": "stream",
     "text": [
      "Hey Luis\n"
     ]
    }
   ],
   "source": [
    "def greet(name):\n",
    "    '''Display a greeting'''\n",
    "    print(f'Hey {name.title()}')\n",
    "greet('luis')"
   ]
  }
 ],
 "metadata": {
  "kernelspec": {
   "display_name": "Python 3",
   "language": "python",
   "name": "python3"
  },
  "language_info": {
   "codemirror_mode": {
    "name": "ipython",
    "version": 3
   },
   "file_extension": ".py",
   "mimetype": "text/x-python",
   "name": "python",
   "nbconvert_exporter": "python",
   "pygments_lexer": "ipython3",
   "version": "3.13.1"
  }
 },
 "nbformat": 4,
 "nbformat_minor": 5
}
